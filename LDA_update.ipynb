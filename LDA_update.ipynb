{
 "cells": [
  {
   "cell_type": "code",
   "execution_count": null,
   "metadata": {},
   "outputs": [],
   "source": [
    "import pandas as pd\n",
    "\n",
    "import datetime\n",
    "datetime_object = datetime.datetime.now()\n",
    "# print(datetime_object)\n",
    "\n",
    "import random\n",
    "list =[]\n",
    "for x in range(1):\n",
    "    y= random.randint(1,3)\n",
    "    list.append(y)\n",
    "\n",
    "df = pd.DataFrame(list, columns = [\"test\"])\n",
    "\n",
    "from datetime import datetime, timedelta\n",
    "n= datetime.strftime(datetime.now() + timedelta(random.randint(0,2)), '%Y-%m-%d')\n",
    "\n",
    "\n",
    "n\n",
    "\n",
    "df.to_csv(\"update{}\".format(n))\n",
    "\n",
    "print(\"ran to the end\")"
   ]
  }
 ],
 "metadata": {
  "kernelspec": {
   "display_name": "Python 3",
   "language": "python",
   "name": "python3"
  },
  "language_info": {
   "codemirror_mode": {
    "name": "ipython",
    "version": 3
   },
   "file_extension": ".py",
   "mimetype": "text/x-python",
   "name": "python",
   "nbconvert_exporter": "python",
   "pygments_lexer": "ipython3",
   "version": "3.7.1"
  }
 },
 "nbformat": 4,
 "nbformat_minor": 2
}
